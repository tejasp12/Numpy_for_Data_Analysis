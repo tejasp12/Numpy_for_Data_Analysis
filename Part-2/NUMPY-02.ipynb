{
 "cells": [
  {
   "cell_type": "markdown",
   "metadata": {},
   "source": [
    "### An Array:\n",
    "   - A **homogeneous container** of numerical elements. Each element in the array occupies a **fixed amount of memory** (hence homogeneous), and can be a numerical element of a **single type** (such as float, int or complex) or a **combination** (such as `(float, int, float))`. \n",
    "   - Each array has an associated data-type (or dtype), which describes the numerical type of its elements:"
   ]
  },
  {
   "cell_type": "code",
   "execution_count": 1,
   "metadata": {},
   "outputs": [],
   "source": [
    "#Import Numpy library::\n",
    "import numpy as np"
   ]
  },
  {
   "cell_type": "markdown",
   "metadata": {},
   "source": [
    "### Diffeence between `np.int8`,`np.int16`,`np.int32`,`np.int64`:\n",
    "[REFERENCE](https://numpy.org/doc/stable/user/basics.types.html)"
   ]
  },
  {
   "cell_type": "markdown",
   "metadata": {},
   "source": [
    "|np.int8|np.int16 |np.int32 |np.int64 |\n",
    "|:-------- |:-------- |:-------- |:-------|\n",
    "|It takes single byte  space in the memory.|It takes 2-bytes  space in the memory. |It takes 4-bytes  space in the memory. |It takes 8-bytes  space in the memory. |\n",
    "|The range of Int16 is from -128 to 127|The range of Int16 is from -32768 to +32767. |The range of Int32 is from -2147483648 to +2147483647. |The range of Int64 is from -9223372036854775808 to +9223372036854775807 |"
   ]
  },
  {
   "cell_type": "markdown",
   "metadata": {},
   "source": [
    "#### Overflow Errors: When a value requires more memory than available in the data type it raise an `Overflow Error.`"
   ]
  },
  {
   "cell_type": "code",
   "execution_count": 2,
   "metadata": {},
   "outputs": [
    {
     "data": {
      "text/plain": [
       "1874919424"
      ]
     },
     "execution_count": 2,
     "metadata": {},
     "output_type": "execute_result"
    }
   ],
   "source": [
    "np.power(100,8,dtype=int)"
   ]
  },
  {
   "cell_type": "code",
   "execution_count": 3,
   "metadata": {},
   "outputs": [
    {
     "data": {
      "text/plain": [
       "-112"
      ]
     },
     "execution_count": 3,
     "metadata": {},
     "output_type": "execute_result"
    }
   ],
   "source": [
    "np.power(12,2,dtype=np.int8)"
   ]
  },
  {
   "cell_type": "code",
   "execution_count": 4,
   "metadata": {},
   "outputs": [
    {
     "data": {
      "text/plain": [
       "144"
      ]
     },
     "execution_count": 4,
     "metadata": {},
     "output_type": "execute_result"
    }
   ],
   "source": [
    "np.power(12,2,dtype=np.int16)"
   ]
  },
  {
   "cell_type": "code",
   "execution_count": 5,
   "metadata": {},
   "outputs": [
    {
     "data": {
      "text/plain": [
       "1874919424"
      ]
     },
     "execution_count": 5,
     "metadata": {},
     "output_type": "execute_result"
    }
   ],
   "source": [
    "np.power(100, 8, dtype=np.int32)"
   ]
  },
  {
   "cell_type": "code",
   "execution_count": 6,
   "metadata": {},
   "outputs": [
    {
     "data": {
      "text/plain": [
       "10000000000000000"
      ]
     },
     "execution_count": 6,
     "metadata": {},
     "output_type": "execute_result"
    }
   ],
   "source": [
    "np.power(100, 8, dtype=np.int64)"
   ]
  },
  {
   "cell_type": "markdown",
   "metadata": {},
   "source": [
    "#### NumPy provides `numpy.iinfo` and `numpy.finfo` to verify the minimum or maximum values of NumPy integer and floating point values respectively:"
   ]
  },
  {
   "cell_type": "code",
   "execution_count": 7,
   "metadata": {},
   "outputs": [
    {
     "data": {
      "text/plain": [
       "iinfo(min=-2147483648, max=2147483647, dtype=int32)"
      ]
     },
     "execution_count": 7,
     "metadata": {},
     "output_type": "execute_result"
    }
   ],
   "source": [
    "# Bounds of the default integer on this system.\n",
    "np.iinfo(np.int) "
   ]
  },
  {
   "cell_type": "code",
   "execution_count": 8,
   "metadata": {},
   "outputs": [
    {
     "data": {
      "text/plain": [
       "iinfo(min=-128, max=127, dtype=int8)"
      ]
     },
     "execution_count": 8,
     "metadata": {},
     "output_type": "execute_result"
    }
   ],
   "source": [
    "# Bounds of a 8-bit integer\n",
    "np.iinfo(np.int8) "
   ]
  },
  {
   "cell_type": "code",
   "execution_count": 9,
   "metadata": {},
   "outputs": [
    {
     "data": {
      "text/plain": [
       "iinfo(min=-32768, max=32767, dtype=int16)"
      ]
     },
     "execution_count": 9,
     "metadata": {},
     "output_type": "execute_result"
    }
   ],
   "source": [
    "# Bounds of a 16-bit integer\n",
    "np.iinfo(np.int16) "
   ]
  },
  {
   "cell_type": "code",
   "execution_count": 10,
   "metadata": {},
   "outputs": [
    {
     "data": {
      "text/plain": [
       "iinfo(min=-2147483648, max=2147483647, dtype=int32)"
      ]
     },
     "execution_count": 10,
     "metadata": {},
     "output_type": "execute_result"
    }
   ],
   "source": [
    "# Bounds of a 32-bit integer\n",
    "np.iinfo(np.int32) "
   ]
  },
  {
   "cell_type": "code",
   "execution_count": 11,
   "metadata": {},
   "outputs": [
    {
     "data": {
      "text/plain": [
       "iinfo(min=-9223372036854775808, max=9223372036854775807, dtype=int64)"
      ]
     },
     "execution_count": 11,
     "metadata": {},
     "output_type": "execute_result"
    }
   ],
   "source": [
    "# Bounds of a 64-bit integer\n",
    "np.iinfo(np.int64) "
   ]
  },
  {
   "cell_type": "markdown",
   "metadata": {},
   "source": [
    "#### If 64-bit integers are still too small the result may be cast to a floating point number. Floating point numbers offer a larger, but inexact, range of possible values:"
   ]
  },
  {
   "cell_type": "code",
   "execution_count": 12,
   "metadata": {},
   "outputs": [
    {
     "data": {
      "text/plain": [
       "0"
      ]
     },
     "execution_count": 12,
     "metadata": {},
     "output_type": "execute_result"
    }
   ],
   "source": [
    "np.power(100, 100, dtype=np.int64) # Incorrect even with 64-bit int"
   ]
  },
  {
   "cell_type": "code",
   "execution_count": 13,
   "metadata": {},
   "outputs": [
    {
     "data": {
      "text/plain": [
       "100000000000000000000000000000000000000000000000000000000000000000000000000000000000000000000000000000000000000000000000000000000000000000000000000000000000000000000000000000000000000000000000000000000"
      ]
     },
     "execution_count": 13,
     "metadata": {},
     "output_type": "execute_result"
    }
   ],
   "source": [
    "100**100"
   ]
  },
  {
   "cell_type": "code",
   "execution_count": 14,
   "metadata": {},
   "outputs": [
    {
     "data": {
      "text/plain": [
       "1e+200"
      ]
     },
     "execution_count": 14,
     "metadata": {},
     "output_type": "execute_result"
    }
   ],
   "source": [
    "np.power(100, 100, dtype=np.float64)"
   ]
  },
  {
   "cell_type": "code",
   "execution_count": 15,
   "metadata": {},
   "outputs": [
    {
     "data": {
      "text/plain": [
       "100000000000000000000000000000000000000000000000000000000000000000000000000000000000000000000000000000000000000000000000000000000000000000000000000000000000000000000000000000000000000000000000000000000"
      ]
     },
     "execution_count": 15,
     "metadata": {},
     "output_type": "execute_result"
    }
   ],
   "source": [
    "1*(10**200)"
   ]
  },
  {
   "cell_type": "markdown",
   "metadata": {},
   "source": [
    "### Get index locations that satisfy a given condition using np.where:"
   ]
  },
  {
   "cell_type": "markdown",
   "metadata": {},
   "source": [
    "### `1D`:"
   ]
  },
  {
   "cell_type": "code",
   "execution_count": 3,
   "metadata": {},
   "outputs": [
    {
     "name": "stdout",
     "output_type": "stream",
     "text": [
      "Array:  [8 8 3 7 7 1 4 2 5 2 0]\n"
     ]
    }
   ],
   "source": [
    "arr_rand = np.array([8, 8, 3, 7, 7, 1, 4, 2, 5, 2, 0])\n",
    "print(\"Array: \", arr_rand)"
   ]
  },
  {
   "cell_type": "code",
   "execution_count": 7,
   "metadata": {},
   "outputs": [
    {
     "data": {
      "text/plain": [
       "(array([0, 1, 3, 4], dtype=int64),)"
      ]
     },
     "execution_count": 7,
     "metadata": {},
     "output_type": "execute_result"
    }
   ],
   "source": [
    "index_less_5 = np.where(arr_rand > 5)\n",
    "index_less_5"
   ]
  },
  {
   "cell_type": "code",
   "execution_count": 8,
   "metadata": {},
   "outputs": [
    {
     "data": {
      "text/plain": [
       "array([8, 8, 7, 7])"
      ]
     },
     "execution_count": 8,
     "metadata": {},
     "output_type": "execute_result"
    }
   ],
   "source": [
    "arr_rand[index_less_5]"
   ]
  },
  {
   "cell_type": "markdown",
   "metadata": {},
   "source": [
    "### `2D:`"
   ]
  },
  {
   "cell_type": "code",
   "execution_count": 5,
   "metadata": {},
   "outputs": [
    {
     "data": {
      "text/plain": [
       "array([[4, 9, 2],\n",
       "       [3, 1, 1],\n",
       "       [9, 6, 7]])"
      ]
     },
     "execution_count": 5,
     "metadata": {},
     "output_type": "execute_result"
    }
   ],
   "source": [
    "arr_rand_2d = np.random.randint(0,10,size=(3,3))\n",
    "arr_rand_2d"
   ]
  },
  {
   "cell_type": "markdown",
   "metadata": {},
   "source": [
    "#### When only `condition` is provided, this function is a shorthand for ``np.asarray(condition).nonzero()``:\n",
    "\n",
    "**`nonzero()`**:Return the indices of the elements that are non-zero."
   ]
  },
  {
   "cell_type": "code",
   "execution_count": 10,
   "metadata": {},
   "outputs": [
    {
     "data": {
      "text/plain": [
       "(array([0, 0, 0, 1, 1, 1, 2, 2, 2], dtype=int64),\n",
       " array([0, 1, 2, 0, 1, 2, 0, 1, 2], dtype=int64))"
      ]
     },
     "execution_count": 10,
     "metadata": {},
     "output_type": "execute_result"
    }
   ],
   "source": [
    "arr_rand_2d.nonzero()"
   ]
  },
  {
   "cell_type": "code",
   "execution_count": 11,
   "metadata": {},
   "outputs": [
    {
     "data": {
      "text/plain": [
       "array([[4, 9, 2],\n",
       "       [3, 1, 1],\n",
       "       [9, 6, 7]])"
      ]
     },
     "execution_count": 11,
     "metadata": {},
     "output_type": "execute_result"
    }
   ],
   "source": [
    "arr_rand_2d"
   ]
  },
  {
   "cell_type": "code",
   "execution_count": 9,
   "metadata": {},
   "outputs": [
    {
     "data": {
      "text/plain": [
       "(array([0, 2, 2, 2], dtype=int64), array([1, 0, 1, 2], dtype=int64))"
      ]
     },
     "execution_count": 9,
     "metadata": {},
     "output_type": "execute_result"
    }
   ],
   "source": [
    "np.asarray(arr_rand_2d > 5).nonzero()"
   ]
  },
  {
   "cell_type": "code",
   "execution_count": 15,
   "metadata": {},
   "outputs": [
    {
     "data": {
      "text/plain": [
       "array([[4, 9, 2],\n",
       "       [3, 1, 1],\n",
       "       [9, 6, 7]])"
      ]
     },
     "execution_count": 15,
     "metadata": {},
     "output_type": "execute_result"
    }
   ],
   "source": [
    "arr_rand_2d"
   ]
  },
  {
   "cell_type": "code",
   "execution_count": 16,
   "metadata": {},
   "outputs": [
    {
     "data": {
      "text/plain": [
       "(array([0, 2, 2, 2], dtype=int64), array([1, 0, 1, 2], dtype=int64))"
      ]
     },
     "execution_count": 16,
     "metadata": {},
     "output_type": "execute_result"
    }
   ],
   "source": [
    "index_grt_5 = np.where(arr_rand_2d > 5)\n",
    "index_grt_5"
   ]
  },
  {
   "cell_type": "code",
   "execution_count": 17,
   "metadata": {},
   "outputs": [
    {
     "data": {
      "text/plain": [
       "tuple"
      ]
     },
     "execution_count": 17,
     "metadata": {},
     "output_type": "execute_result"
    }
   ],
   "source": [
    "type(index_grt_5) #Tuple of arrays"
   ]
  },
  {
   "cell_type": "code",
   "execution_count": 18,
   "metadata": {},
   "outputs": [
    {
     "data": {
      "text/plain": [
       "2"
      ]
     },
     "execution_count": 18,
     "metadata": {},
     "output_type": "execute_result"
    }
   ],
   "source": [
    "len(index_grt_5)"
   ]
  },
  {
   "cell_type": "code",
   "execution_count": 20,
   "metadata": {},
   "outputs": [
    {
     "data": {
      "text/plain": [
       "array([1, 0, 1, 2], dtype=int64)"
      ]
     },
     "execution_count": 20,
     "metadata": {},
     "output_type": "execute_result"
    }
   ],
   "source": [
    "index_grt_5[1]"
   ]
  },
  {
   "cell_type": "code",
   "execution_count": 13,
   "metadata": {},
   "outputs": [
    {
     "data": {
      "text/plain": [
       "array([[4, 2, 2, 2],\n",
       "       [9, 4, 9, 2]])"
      ]
     },
     "execution_count": 13,
     "metadata": {},
     "output_type": "execute_result"
    }
   ],
   "source": [
    "extracted_elements = arr_rand_2d.take(index_less_5)\n",
    "extracted_elements"
   ]
  },
  {
   "cell_type": "code",
   "execution_count": 39,
   "metadata": {},
   "outputs": [
    {
     "data": {
      "text/plain": [
       "array([4, 9])"
      ]
     },
     "execution_count": 39,
     "metadata": {},
     "output_type": "execute_result"
    }
   ],
   "source": [
    "arr_rand_2d.take((0,1))"
   ]
  },
  {
   "cell_type": "code",
   "execution_count": 22,
   "metadata": {},
   "outputs": [
    {
     "data": {
      "text/plain": [
       "array([2, 4])"
      ]
     },
     "execution_count": 22,
     "metadata": {},
     "output_type": "execute_result"
    }
   ],
   "source": [
    "arr_rand_2d.take((2,0))"
   ]
  },
  {
   "cell_type": "code",
   "execution_count": 26,
   "metadata": {},
   "outputs": [
    {
     "data": {
      "text/plain": [
       "array([2, 9])"
      ]
     },
     "execution_count": 26,
     "metadata": {},
     "output_type": "execute_result"
    }
   ],
   "source": [
    "arr_rand_2d.take((2,1))"
   ]
  },
  {
   "cell_type": "code",
   "execution_count": 27,
   "metadata": {},
   "outputs": [
    {
     "data": {
      "text/plain": [
       "array([2, 2])"
      ]
     },
     "execution_count": 27,
     "metadata": {},
     "output_type": "execute_result"
    }
   ],
   "source": [
    "arr_rand_2d.take((2,2))"
   ]
  },
  {
   "cell_type": "code",
   "execution_count": 29,
   "metadata": {},
   "outputs": [
    {
     "data": {
      "text/plain": [
       "array([9, 9, 6, 7])"
      ]
     },
     "execution_count": 29,
     "metadata": {},
     "output_type": "execute_result"
    }
   ],
   "source": [
    "arr_rand_2d[index_grt_5]"
   ]
  },
  {
   "cell_type": "code",
   "execution_count": 34,
   "metadata": {},
   "outputs": [
    {
     "data": {
      "text/plain": [
       "array([[0, 1, 2],\n",
       "       [3, 4, 5],\n",
       "       [6, 7, 8]])"
      ]
     },
     "execution_count": 34,
     "metadata": {},
     "output_type": "execute_result"
    }
   ],
   "source": [
    "arr = np.arange(9).reshape(3,3)\n",
    "arr"
   ]
  },
  {
   "cell_type": "code",
   "execution_count": 35,
   "metadata": {},
   "outputs": [
    {
     "data": {
      "text/plain": [
       "array([[ True,  True,  True],\n",
       "       [ True,  True, False],\n",
       "       [False, False, False]])"
      ]
     },
     "execution_count": 35,
     "metadata": {},
     "output_type": "execute_result"
    }
   ],
   "source": [
    "arr < 5"
   ]
  },
  {
   "cell_type": "code",
   "execution_count": 36,
   "metadata": {},
   "outputs": [
    {
     "data": {
      "text/plain": [
       "(array([0, 0, 0, 1, 1], dtype=int64), array([0, 1, 2, 0, 1], dtype=int64))"
      ]
     },
     "execution_count": 36,
     "metadata": {},
     "output_type": "execute_result"
    }
   ],
   "source": [
    "np.where(arr<5)"
   ]
  },
  {
   "cell_type": "code",
   "execution_count": 37,
   "metadata": {},
   "outputs": [
    {
     "data": {
      "text/plain": [
       "array([0, 1, 2, 3, 4])"
      ]
     },
     "execution_count": 37,
     "metadata": {},
     "output_type": "execute_result"
    }
   ],
   "source": [
    "arr[np.where(arr<5)]"
   ]
  },
  {
   "cell_type": "code",
   "execution_count": 25,
   "metadata": {},
   "outputs": [
    {
     "name": "stdout",
     "output_type": "stream",
     "text": [
      "Positions where value > 5:  (array([ 2,  5,  6,  7,  9, 10], dtype=int64),)\n"
     ]
    }
   ],
   "source": [
    "#The same thing is achieved through---\n",
    "#Positions where value < 5\n",
    "#[xv if c else yv\n",
    "#     for c, xv, yv in zip(condition, x, y)]\n",
    "index_less5 = np.where(arr_rand < 5)\n",
    "print(\"Positions where value > 5: \", index_less5)"
   ]
  },
  {
   "cell_type": "code",
   "execution_count": 26,
   "metadata": {},
   "outputs": [
    {
     "data": {
      "text/plain": [
       "tuple"
      ]
     },
     "execution_count": 26,
     "metadata": {},
     "output_type": "execute_result"
    }
   ],
   "source": [
    "type(index_less5)"
   ]
  },
  {
   "cell_type": "code",
   "execution_count": 27,
   "metadata": {},
   "outputs": [
    {
     "data": {
      "text/plain": [
       "1"
      ]
     },
     "execution_count": 27,
     "metadata": {},
     "output_type": "execute_result"
    }
   ],
   "source": [
    "len(index_less5)"
   ]
  },
  {
   "cell_type": "code",
   "execution_count": 28,
   "metadata": {},
   "outputs": [
    {
     "data": {
      "text/plain": [
       "array([[3, 1, 4, 2, 2, 0]])"
      ]
     },
     "execution_count": 28,
     "metadata": {},
     "output_type": "execute_result"
    }
   ],
   "source": [
    "#Extract them using the array’s take method:\n",
    "#Return an array formed from the elements of `a` at the given indices.\n",
    "returned_arr = arr_rand.take(index_less5)\n",
    "returned_arr"
   ]
  },
  {
   "cell_type": "code",
   "execution_count": 29,
   "metadata": {},
   "outputs": [
    {
     "data": {
      "text/plain": [
       "((1, 6), 2)"
      ]
     },
     "execution_count": 29,
     "metadata": {},
     "output_type": "execute_result"
    }
   ],
   "source": [
    "#Check shape & Dimention:\n",
    "returned_arr.shape,returned_arr.ndim"
   ]
  },
  {
   "cell_type": "code",
   "execution_count": 30,
   "metadata": {},
   "outputs": [
    {
     "data": {
      "text/plain": [
       "array([8, 8, 3, 7, 7, 1, 4, 2, 5, 2, 0])"
      ]
     },
     "execution_count": 30,
     "metadata": {},
     "output_type": "execute_result"
    }
   ],
   "source": [
    "arr_rand"
   ]
  },
  {
   "cell_type": "markdown",
   "metadata": {},
   "source": [
    "### Value assignment based on condition satisfied:"
   ]
  },
  {
   "cell_type": "code",
   "execution_count": 31,
   "metadata": {},
   "outputs": [
    {
     "data": {
      "text/plain": [
       "array(['gt5', 'gt5', 'le5', 'gt5', 'gt5', 'le5', 'le5', 'le5', 'le5',\n",
       "       'le5', 'le5'], dtype='<U3')"
      ]
     },
     "execution_count": 31,
     "metadata": {},
     "output_type": "execute_result"
    }
   ],
   "source": [
    "# If value > 5, then yield 'gt5' else 'le5'\n",
    "np.where(arr_rand > 5, 'gt5', 'le5')"
   ]
  },
  {
   "cell_type": "markdown",
   "metadata": {},
   "source": [
    "### Import and Export data as a csv file:"
   ]
  },
  {
   "cell_type": "markdown",
   "metadata": {},
   "source": [
    "- **`np.genfromtxt` function:** It imports datasets from web URLs,handle missing values,multiple delimiters and handle irregular number of columns etc."
   ]
  },
  {
   "cell_type": "code",
   "execution_count": 32,
   "metadata": {},
   "outputs": [],
   "source": [
    "# Import data from csv file url\n",
    "path = 'https://raw.githubusercontent.com/selva86/datasets/master/Auto.csv'"
   ]
  },
  {
   "cell_type": "code",
   "execution_count": 33,
   "metadata": {},
   "outputs": [
    {
     "ename": "NameError",
     "evalue": "name 'org_data' is not defined",
     "output_type": "error",
     "traceback": [
      "\u001b[1;31m---------------------------------------------------------------------------\u001b[0m",
      "\u001b[1;31mNameError\u001b[0m                                 Traceback (most recent call last)",
      "\u001b[1;32m<ipython-input-33-ea0102bb1fc7>\u001b[0m in \u001b[0;36m<module>\u001b[1;34m\u001b[0m\n\u001b[1;32m----> 1\u001b[1;33m \u001b[0morg_data\u001b[0m\u001b[1;33m.\u001b[0m\u001b[0misna\u001b[0m\u001b[1;33m(\u001b[0m\u001b[1;33m)\u001b[0m\u001b[1;33m.\u001b[0m\u001b[0msum\u001b[0m\u001b[1;33m(\u001b[0m\u001b[1;33m)\u001b[0m\u001b[1;33m\u001b[0m\u001b[1;33m\u001b[0m\u001b[0m\n\u001b[0m",
      "\u001b[1;31mNameError\u001b[0m: name 'org_data' is not defined"
     ]
    }
   ],
   "source": [
    "org_data.isna().sum()"
   ]
  },
  {
   "cell_type": "code",
   "execution_count": null,
   "metadata": {},
   "outputs": [],
   "source": [
    "import pandas as pd\n",
    "org_data = pd.read_csv(path)\n",
    "org_data.head(7)"
   ]
  },
  {
   "cell_type": "code",
   "execution_count": null,
   "metadata": {},
   "outputs": [],
   "source": [
    "#Import data using Numpy:\n",
    "data = np.genfromtxt(path, delimiter=',', skip_header=1,missing_values=np.nan,filling_values=-999, dtype='float')\n",
    "data"
   ]
  },
  {
   "cell_type": "code",
   "execution_count": null,
   "metadata": {},
   "outputs": [],
   "source": [
    "org_data.shape"
   ]
  },
  {
   "cell_type": "code",
   "execution_count": null,
   "metadata": {},
   "outputs": [],
   "source": [
    "data.shape"
   ]
  },
  {
   "cell_type": "code",
   "execution_count": null,
   "metadata": {},
   "outputs": [],
   "source": [
    "#Check attributes:\n",
    "data.shape,data.ndim"
   ]
  },
  {
   "cell_type": "code",
   "execution_count": null,
   "metadata": {},
   "outputs": [],
   "source": [
    "# View first 3 rows fully:\n",
    "data[:3]"
   ]
  },
  {
   "cell_type": "code",
   "execution_count": null,
   "metadata": {},
   "outputs": [],
   "source": [
    "#Turn off scientific notation\n",
    "np.set_printoptions(suppress=True)  "
   ]
  },
  {
   "cell_type": "code",
   "execution_count": null,
   "metadata": {},
   "outputs": [],
   "source": [
    "data[:5]"
   ]
  },
  {
   "cell_type": "markdown",
   "metadata": {
    "collapsed": true
   },
   "source": [
    "- Notice all the values in last column has the same value `‘-999’?`\n",
    "\n",
    "- **Cause:**\n",
    "    - That happened because, `dtype=’float’`. \n",
    "    - The last column in the file contained text values and since all the values in a numpy array has to be of the same `dtype`, `np.genfromtxt` didn’t know how to convert it to a float."
   ]
  },
  {
   "cell_type": "markdown",
   "metadata": {
    "collapsed": true
   },
   "source": [
    "### Handle datasets that has both numbers and text columns?\n",
    "- set the dtype as `‘object’` or as `None`"
   ]
  },
  {
   "cell_type": "code",
   "execution_count": null,
   "metadata": {},
   "outputs": [],
   "source": [
    "data_2 = np.genfromtxt(path, delimiter=',', skip_header=1, dtype='object')\n",
    "data_2"
   ]
  },
  {
   "cell_type": "code",
   "execution_count": null,
   "metadata": {},
   "outputs": [],
   "source": [
    "data_2"
   ]
  },
  {
   "cell_type": "code",
   "execution_count": null,
   "metadata": {},
   "outputs": [],
   "source": [
    "data_2[:3]"
   ]
  },
  {
   "cell_type": "code",
   "execution_count": null,
   "metadata": {},
   "outputs": [],
   "source": [
    "data_3 = np.genfromtxt(path, delimiter=',', skip_header=1, dtype=None)\n",
    "data_3[:5]"
   ]
  },
  {
   "cell_type": "code",
   "execution_count": null,
   "metadata": {},
   "outputs": [],
   "source": [
    "# Save the array as a csv file\n",
    "np.savetxt(\"out.csv\", data, delimiter=\",\")"
   ]
  },
  {
   "cell_type": "markdown",
   "metadata": {},
   "source": [
    "### Array Concatenation:\n",
    "   - Concatenate two numpy arrays columnwise and row wise.\n",
    "   - There are 2 different ways of concatenating two or more numpy arrays and these are:\n",
    "       - **`np.concatenate`** by changing the axis parameter to 0 and 1\n",
    "       \n",
    "       - **`np.vstack`** and **`np.hstack`**"
   ]
  },
  {
   "cell_type": "code",
   "execution_count": null,
   "metadata": {},
   "outputs": [],
   "source": [
    "a = np.zeros([4, 4])\n",
    "b = np.ones([4, 4])\n",
    "print(\"a--\\n\",a)\n",
    "print()\n",
    "print(\"b--\\n\",b)"
   ]
  },
  {
   "cell_type": "code",
   "execution_count": null,
   "metadata": {},
   "outputs": [],
   "source": [
    "#========Stack the arrays vertically(Increatment in Rows in the Resultant Array)========#.\n",
    "#Vertical Stack Equivalents(Row wise)::Using \"np.concatenate(axis=0)\" method.\n",
    "np.concatenate((a, b), axis=0)  "
   ]
  },
  {
   "cell_type": "code",
   "execution_count": null,
   "metadata": {},
   "outputs": [],
   "source": [
    "#Using \"np.vstack\" method::\n",
    "np.vstack([a,b])  "
   ]
  },
  {
   "cell_type": "code",
   "execution_count": null,
   "metadata": {},
   "outputs": [],
   "source": [
    "#========Stack the arrays Horizontally(Increatment in Columns in the Resultant Array)========#.\n",
    "#Horizontal Stack Equivalents(Column wise)::Using \"np.concatenate(axis=1)\" method.\n",
    "np.concatenate([a, b], axis=1) "
   ]
  },
  {
   "cell_type": "code",
   "execution_count": null,
   "metadata": {},
   "outputs": [],
   "source": [
    "#Using \"np.hstack\" method::\n",
    "np.hstack([a,b])  "
   ]
  },
  {
   "cell_type": "markdown",
   "metadata": {},
   "source": [
    "---\n",
    "***"
   ]
  },
  {
   "cell_type": "markdown",
   "metadata": {},
   "source": [
    "### Getting every Yth element from an array:"
   ]
  },
  {
   "cell_type": "code",
   "execution_count": 156,
   "metadata": {},
   "outputs": [
    {
     "data": {
      "text/plain": [
       "array([1, 2, 3, 4, 5, 6, 7, 8, 9])"
      ]
     },
     "execution_count": 156,
     "metadata": {},
     "output_type": "execute_result"
    }
   ],
   "source": [
    "arr = np.array([1,2,3,4,5,6,7,8,9])\n",
    "arr"
   ]
  },
  {
   "cell_type": "markdown",
   "metadata": {},
   "source": [
    "`array[start:end:step_size]`"
   ]
  },
  {
   "cell_type": "code",
   "execution_count": 159,
   "metadata": {},
   "outputs": [
    {
     "data": {
      "text/plain": [
       "array([3, 5, 7, 9])"
      ]
     },
     "execution_count": 159,
     "metadata": {},
     "output_type": "execute_result"
    }
   ],
   "source": [
    "#Example-1:\n",
    "#Providing Start Index but not end Index:\n",
    "arr[2::2]"
   ]
  },
  {
   "cell_type": "code",
   "execution_count": 160,
   "metadata": {},
   "outputs": [
    {
     "data": {
      "text/plain": [
       "array([1, 3, 5])"
      ]
     },
     "execution_count": 160,
     "metadata": {},
     "output_type": "execute_result"
    }
   ],
   "source": [
    "#Example-2:\n",
    "#Providing End Index but not Start Index:\n",
    "arr[:6:2]"
   ]
  },
  {
   "cell_type": "code",
   "execution_count": 161,
   "metadata": {},
   "outputs": [
    {
     "data": {
      "text/plain": [
       "array([2, 4, 6, 8])"
      ]
     },
     "execution_count": 161,
     "metadata": {},
     "output_type": "execute_result"
    }
   ],
   "source": [
    "#Example-3:\n",
    "#Providing both Start & End Indexes:\n",
    "arr[1:8:2]"
   ]
  },
  {
   "cell_type": "code",
   "execution_count": 84,
   "metadata": {},
   "outputs": [
    {
     "data": {
      "text/plain": [
       "array([1, 2, 3, 4, 5, 6, 7, 8, 9])"
      ]
     },
     "execution_count": 84,
     "metadata": {},
     "output_type": "execute_result"
    }
   ],
   "source": [
    "arr"
   ]
  },
  {
   "cell_type": "markdown",
   "metadata": {},
   "source": [
    "### `array[end:start:-1]`:"
   ]
  },
  {
   "cell_type": "code",
   "execution_count": 164,
   "metadata": {},
   "outputs": [
    {
     "data": {
      "text/plain": [
       "[0, 1, 2, 3, 4, 5, 6, 7, 8, 9, 10, 11, 12, 13, 14, 15, 16, 17, 18, 19]"
      ]
     },
     "execution_count": 164,
     "metadata": {},
     "output_type": "execute_result"
    }
   ],
   "source": [
    "#Some experimentations with list:\n",
    "test_list = list(range(20))\n",
    "test_list"
   ]
  },
  {
   "cell_type": "code",
   "execution_count": 166,
   "metadata": {},
   "outputs": [],
   "source": [
    "#Reverse entire list:\n",
    "#test_list[::-1]"
   ]
  },
  {
   "cell_type": "code",
   "execution_count": 92,
   "metadata": {},
   "outputs": [
    {
     "data": {
      "text/plain": [
       "[0, 1, 2, 3, 4, 5, 6, 7, 8, 9, 10, 11, 12, 13, 14, 15, 16, 17, 18, 19]"
      ]
     },
     "execution_count": 92,
     "metadata": {},
     "output_type": "execute_result"
    }
   ],
   "source": [
    "test_list"
   ]
  },
  {
   "cell_type": "code",
   "execution_count": 165,
   "metadata": {},
   "outputs": [
    {
     "data": {
      "text/plain": [
       "[12, 11, 10, 9, 8]"
      ]
     },
     "execution_count": 165,
     "metadata": {},
     "output_type": "execute_result"
    }
   ],
   "source": [
    "#Example-1::\n",
    "test_list[12:7:-1]"
   ]
  },
  {
   "cell_type": "code",
   "execution_count": 167,
   "metadata": {},
   "outputs": [
    {
     "data": {
      "text/plain": [
       "[10, 9, 8, 7, 6, 5]"
      ]
     },
     "execution_count": 167,
     "metadata": {},
     "output_type": "execute_result"
    }
   ],
   "source": [
    "#Example-2::\n",
    "test_list[10:4:-1]"
   ]
  },
  {
   "cell_type": "code",
   "execution_count": 168,
   "metadata": {},
   "outputs": [
    {
     "data": {
      "text/plain": [
       "[10, 8, 6]"
      ]
     },
     "execution_count": 168,
     "metadata": {},
     "output_type": "execute_result"
    }
   ],
   "source": [
    "#Example-3::<<Step-size of 2>>\n",
    "test_list[10:4:-2]"
   ]
  },
  {
   "cell_type": "code",
   "execution_count": 91,
   "metadata": {},
   "outputs": [
    {
     "data": {
      "text/plain": [
       "array([1, 2, 3, 4, 5, 6, 7, 8, 9])"
      ]
     },
     "execution_count": 91,
     "metadata": {},
     "output_type": "execute_result"
    }
   ],
   "source": [
    "#Same working with arrays:\n",
    "arr"
   ]
  },
  {
   "cell_type": "code",
   "execution_count": 83,
   "metadata": {},
   "outputs": [
    {
     "data": {
      "text/plain": [
       "array([9, 8, 7, 6, 5, 4, 3, 2, 1])"
      ]
     },
     "execution_count": 83,
     "metadata": {},
     "output_type": "execute_result"
    }
   ],
   "source": [
    "#Reverses::\n",
    "#getting entire array in reverse order:\n",
    "arr[::-1]"
   ]
  },
  {
   "cell_type": "code",
   "execution_count": 86,
   "metadata": {},
   "outputs": [
    {
     "data": {
      "text/plain": [
       "array([9, 7, 5, 3, 1])"
      ]
     },
     "execution_count": 86,
     "metadata": {},
     "output_type": "execute_result"
    }
   ],
   "source": [
    "arr[::-2]"
   ]
  },
  {
   "cell_type": "code",
   "execution_count": 43,
   "metadata": {},
   "outputs": [
    {
     "data": {
      "text/plain": [
       "array([9, 6, 3])"
      ]
     },
     "execution_count": 43,
     "metadata": {},
     "output_type": "execute_result"
    }
   ],
   "source": [
    "arr[::-3]"
   ]
  },
  {
   "cell_type": "code",
   "execution_count": 169,
   "metadata": {},
   "outputs": [
    {
     "data": {
      "text/plain": [
       "array([[16, 12, 10, 18],\n",
       "       [12, 15, 11, 18],\n",
       "       [11, 15, 14, 12],\n",
       "       [18, 13, 15, 10]])"
      ]
     },
     "execution_count": 169,
     "metadata": {},
     "output_type": "execute_result"
    }
   ],
   "source": [
    "arr_2d = np.random.randint(10,20,size=(4,4))\n",
    "arr_2d"
   ]
  },
  {
   "cell_type": "code",
   "execution_count": 172,
   "metadata": {},
   "outputs": [
    {
     "data": {
      "text/plain": [
       "array([[11, 18],\n",
       "       [14, 12]])"
      ]
     },
     "execution_count": 172,
     "metadata": {},
     "output_type": "execute_result"
    }
   ],
   "source": [
    "arr_2d[1:3,2:]"
   ]
  },
  {
   "cell_type": "markdown",
   "metadata": {},
   "source": [
    "### Sorting values based on the given axis::\n",
    "   - `np.sort` function with `axis=0`:\n",
    "        - All the columns will be sorted in ascending order independent of each-other.\n",
    "        \n",
    "### Using `np.sort()`:Direct Sorting"
   ]
  },
  {
   "cell_type": "markdown",
   "metadata": {},
   "source": [
    "### Sorting:\n",
    "\n",
    "   1. **Direct**\n",
    "       - In place sorting\n",
    "       - Return array copy\n",
    "   \n",
    "   \n",
    "   2. **Indirect**\n",
    "      - In place sorting\n",
    "      - Return array copy"
   ]
  },
  {
   "cell_type": "markdown",
   "metadata": {},
   "source": [
    "### `1D:`"
   ]
  },
  {
   "cell_type": "code",
   "execution_count": 176,
   "metadata": {
    "scrolled": true
   },
   "outputs": [
    {
     "data": {
      "text/plain": [
       "array([4, 4, 5, 7, 6, 6, 2, 4, 2, 7])"
      ]
     },
     "execution_count": 176,
     "metadata": {},
     "output_type": "execute_result"
    }
   ],
   "source": [
    "arr_1d = np.random.randint(10,size=10)\n",
    "arr_1d"
   ]
  },
  {
   "cell_type": "code",
   "execution_count": 174,
   "metadata": {},
   "outputs": [],
   "source": [
    "#Perform sorting:\n",
    "#In-Place sorting:\n",
    "arr_1d.sort()"
   ]
  },
  {
   "cell_type": "code",
   "execution_count": 175,
   "metadata": {},
   "outputs": [
    {
     "data": {
      "text/plain": [
       "array([0, 3, 3, 3, 4, 6, 6, 7, 9, 9])"
      ]
     },
     "execution_count": 175,
     "metadata": {},
     "output_type": "execute_result"
    }
   ],
   "source": [
    "#By default in ascending order: \n",
    "arr_1d"
   ]
  },
  {
   "cell_type": "code",
   "execution_count": 177,
   "metadata": {},
   "outputs": [
    {
     "data": {
      "text/plain": [
       "array([4, 4, 5, 7, 6, 6, 2, 4, 2, 7])"
      ]
     },
     "execution_count": 177,
     "metadata": {},
     "output_type": "execute_result"
    }
   ],
   "source": [
    "arr_1d"
   ]
  },
  {
   "cell_type": "code",
   "execution_count": 178,
   "metadata": {},
   "outputs": [
    {
     "data": {
      "text/plain": [
       "array([2, 2, 4, 4, 4, 5, 6, 6, 7, 7])"
      ]
     },
     "execution_count": 178,
     "metadata": {},
     "output_type": "execute_result"
    }
   ],
   "source": [
    "np.sort(arr_1d)"
   ]
  },
  {
   "cell_type": "code",
   "execution_count": 179,
   "metadata": {},
   "outputs": [
    {
     "data": {
      "text/plain": [
       "array([4, 4, 5, 7, 6, 6, 2, 4, 2, 7])"
      ]
     },
     "execution_count": 179,
     "metadata": {},
     "output_type": "execute_result"
    }
   ],
   "source": [
    "arr_1d"
   ]
  },
  {
   "cell_type": "code",
   "execution_count": 97,
   "metadata": {},
   "outputs": [
    {
     "data": {
      "text/plain": [
       "array([9, 8, 5, 5, 5, 5, 4, 4, 3, 2])"
      ]
     },
     "execution_count": 97,
     "metadata": {},
     "output_type": "execute_result"
    }
   ],
   "source": [
    "#To make it in descending order:\n",
    "#array[::-1].sort() sorts the array in place, whereas np.sort(array)[::-1] creates a new array:\n",
    "np.sort(arr_1d)[::-1]"
   ]
  },
  {
   "cell_type": "markdown",
   "metadata": {},
   "source": [
    "### along an axis:\n",
    "   Axes are defined for arrays with **more than one dimension**. A 2-dimensional array has **two corresponding axes:** \n",
    "   - the **first** running **vertically downwards** across rows (**axis 0**), \n",
    "   - and the **second** running **horizontally** across columns (**axis 1**).\n",
    "\n",
    "Many operation can take place along one of these axes. For example, we can sum each row of an array, in which case we operate along columns, or axis 1:\n",
    "```\n",
    ">>> x = np.arange(12).reshape((3,4))\n",
    "\n",
    ">>> x\n",
    "array([[ 0,  1,  2,  3],\n",
    "       [ 4,  5,  6,  7],\n",
    "       [ 8,  9, 10, 11]])\n",
    "\n",
    ">>> x.sum(axis=1)\n",
    "array([ 6, 22, 38])\n",
    "```"
   ]
  },
  {
   "cell_type": "code",
   "execution_count": 75,
   "metadata": {},
   "outputs": [
    {
     "data": {
      "text/plain": [
       "array([[1, 1, 1, 3],\n",
       "       [2, 3, 1, 3],\n",
       "       [3, 3, 3, 4],\n",
       "       [3, 3, 3, 4],\n",
       "       [3, 4, 4, 4],\n",
       "       [4, 4, 4, 4],\n",
       "       [4, 5, 4, 5],\n",
       "       [5, 5, 5, 5]])"
      ]
     },
     "execution_count": 75,
     "metadata": {},
     "output_type": "execute_result"
    }
   ],
   "source": [
    "#Row-wise:\n",
    "np.sort(arr, axis=0)"
   ]
  },
  {
   "cell_type": "code",
   "execution_count": 180,
   "metadata": {},
   "outputs": [
    {
     "data": {
      "text/plain": [
       "array([[5, 2, 3, 3],\n",
       "       [1, 3, 3, 4],\n",
       "       [5, 3, 5, 4],\n",
       "       [2, 1, 1, 2],\n",
       "       [3, 5, 3, 4],\n",
       "       [4, 2, 3, 4],\n",
       "       [1, 2, 2, 4],\n",
       "       [1, 5, 3, 5]])"
      ]
     },
     "execution_count": 180,
     "metadata": {},
     "output_type": "execute_result"
    }
   ],
   "source": [
    "# sort a numpy array based on one or more columns?\n",
    "arr = np.random.randint(1,6,size=(8, 4))\n",
    "arr"
   ]
  },
  {
   "cell_type": "code",
   "execution_count": 181,
   "metadata": {},
   "outputs": [
    {
     "data": {
      "text/plain": [
       "array([[2, 3, 3, 5],\n",
       "       [1, 3, 3, 4],\n",
       "       [3, 4, 5, 5],\n",
       "       [1, 1, 2, 2],\n",
       "       [3, 3, 4, 5],\n",
       "       [2, 3, 4, 4],\n",
       "       [1, 2, 2, 4],\n",
       "       [1, 3, 5, 5]])"
      ]
     },
     "execution_count": 181,
     "metadata": {},
     "output_type": "execute_result"
    }
   ],
   "source": [
    "#Column-wise:\n",
    "np.sort(arr, axis=1)"
   ]
  },
  {
   "cell_type": "markdown",
   "metadata": {
    "collapsed": true
   },
   "source": [
    "### `np.argsort`: Indirect Sorting\n",
    "- `np.argsort` returns the **index positions** of that would make a given array sorted."
   ]
  },
  {
   "cell_type": "markdown",
   "metadata": {},
   "source": [
    "### `1D`:"
   ]
  },
  {
   "cell_type": "code",
   "execution_count": 183,
   "metadata": {},
   "outputs": [
    {
     "data": {
      "text/plain": [
       "array([ 1, 10,  5,  2,  8,  9])"
      ]
     },
     "execution_count": 183,
     "metadata": {},
     "output_type": "execute_result"
    }
   ],
   "source": [
    "x = np.array([1, 10, 5, 2, 8, 9])\n",
    "x"
   ]
  },
  {
   "cell_type": "code",
   "execution_count": 184,
   "metadata": {},
   "outputs": [
    {
     "name": "stdout",
     "output_type": "stream",
     "text": [
      "<class 'numpy.ndarray'>\n"
     ]
    }
   ],
   "source": [
    "# Get the index positions that would sort the array\n",
    "sort_index = np.argsort(x)\n",
    "print(type(sort_index))"
   ]
  },
  {
   "cell_type": "code",
   "execution_count": 185,
   "metadata": {},
   "outputs": [
    {
     "name": "stdout",
     "output_type": "stream",
     "text": [
      "[0 3 2 4 5 1]\n"
     ]
    }
   ],
   "source": [
    "print(sort_index)"
   ]
  },
  {
   "cell_type": "markdown",
   "metadata": {
    "collapsed": true
   },
   "source": [
    "- In array `‘x’`, the `0th item` is the `smallest`, `3rd item` is the `second smallest` and so on."
   ]
  },
  {
   "cell_type": "code",
   "execution_count": 187,
   "metadata": {},
   "outputs": [
    {
     "data": {
      "text/plain": [
       "array([10,  9,  8,  5,  2,  1])"
      ]
     },
     "execution_count": 187,
     "metadata": {},
     "output_type": "execute_result"
    }
   ],
   "source": [
    "#Sort the array:\n",
    "x[sort_index][::-1]"
   ]
  },
  {
   "cell_type": "markdown",
   "metadata": {},
   "source": [
    "### `2D:`"
   ]
  },
  {
   "cell_type": "code",
   "execution_count": 188,
   "metadata": {},
   "outputs": [
    {
     "data": {
      "text/plain": [
       "array([[3, 4, 8],\n",
       "       [9, 8, 5],\n",
       "       [2, 7, 5]])"
      ]
     },
     "execution_count": 188,
     "metadata": {},
     "output_type": "execute_result"
    }
   ],
   "source": [
    "x_2d = np.random.randint(10,size=(3,3))\n",
    "x_2d"
   ]
  },
  {
   "cell_type": "code",
   "execution_count": 193,
   "metadata": {},
   "outputs": [
    {
     "data": {
      "text/plain": [
       "array([3, 9, 2, 4, 8, 7, 8, 5, 5])"
      ]
     },
     "execution_count": 193,
     "metadata": {},
     "output_type": "execute_result"
    }
   ],
   "source": [
    "#Column-major:\n",
    "x_2d.flatten(order='F')"
   ]
  },
  {
   "cell_type": "code",
   "execution_count": 194,
   "metadata": {},
   "outputs": [
    {
     "data": {
      "text/plain": [
       "array([[3, 4, 8],\n",
       "       [9, 8, 5],\n",
       "       [2, 7, 5]])"
      ]
     },
     "execution_count": 194,
     "metadata": {},
     "output_type": "execute_result"
    }
   ],
   "source": [
    "x_2d"
   ]
  },
  {
   "cell_type": "code",
   "execution_count": 191,
   "metadata": {},
   "outputs": [
    {
     "data": {
      "text/plain": [
       "array([3, 4, 8, 9, 8, 5, 2, 7, 5])"
      ]
     },
     "execution_count": 191,
     "metadata": {},
     "output_type": "execute_result"
    }
   ],
   "source": [
    "#Flattend version of 2D array:\n",
    "#Rows-wise:\n",
    "x_2d.flatten()"
   ]
  },
  {
   "cell_type": "code",
   "execution_count": 195,
   "metadata": {},
   "outputs": [
    {
     "data": {
      "text/plain": [
       "array([6, 0, 1, 5, 8, 7, 2, 4, 3], dtype=int64)"
      ]
     },
     "execution_count": 195,
     "metadata": {},
     "output_type": "execute_result"
    }
   ],
   "source": [
    "#Flattend before sort:\n",
    "sort_index_2d = np.argsort(x_2d,axis=None)\n",
    "sort_index_2d"
   ]
  },
  {
   "cell_type": "code",
   "execution_count": 202,
   "metadata": {},
   "outputs": [
    {
     "data": {
      "text/plain": [
       "array([[0, 1, 2],\n",
       "       [2, 1, 0],\n",
       "       [0, 2, 1]], dtype=int64)"
      ]
     },
     "execution_count": 202,
     "metadata": {},
     "output_type": "execute_result"
    }
   ],
   "source": [
    "#By default:Sorted along with last axis which is 'column':\n",
    "sort_index_2d = np.argsort(x_2d)\n",
    "sort_index_2d"
   ]
  },
  {
   "cell_type": "code",
   "execution_count": 201,
   "metadata": {},
   "outputs": [
    {
     "data": {
      "text/plain": [
       "array([[3, 4, 8],\n",
       "       [9, 8, 5],\n",
       "       [2, 7, 5]])"
      ]
     },
     "execution_count": 201,
     "metadata": {},
     "output_type": "execute_result"
    }
   ],
   "source": [
    "x_2d"
   ]
  },
  {
   "cell_type": "code",
   "execution_count": 203,
   "metadata": {},
   "outputs": [
    {
     "data": {
      "text/plain": [
       "array([[2, 0, 1],\n",
       "       [0, 2, 2],\n",
       "       [1, 1, 0]], dtype=int64)"
      ]
     },
     "execution_count": 203,
     "metadata": {},
     "output_type": "execute_result"
    }
   ],
   "source": [
    "#Sorts along with rows:\n",
    "sort_index_2d = np.argsort(x_2d,axis=0)\n",
    "sort_index_2d"
   ]
  },
  {
   "cell_type": "code",
   "execution_count": 212,
   "metadata": {},
   "outputs": [
    {
     "data": {
      "text/plain": [
       "array([[3, 4, 8],\n",
       "       [9, 8, 5],\n",
       "       [2, 7, 5]])"
      ]
     },
     "execution_count": 212,
     "metadata": {},
     "output_type": "execute_result"
    }
   ],
   "source": [
    "#Original array:\n",
    "x_2d"
   ]
  },
  {
   "cell_type": "code",
   "execution_count": 213,
   "metadata": {},
   "outputs": [
    {
     "data": {
      "text/plain": [
       "array([[0, 1, 2],\n",
       "       [2, 1, 0],\n",
       "       [0, 2, 1]], dtype=int64)"
      ]
     },
     "execution_count": 213,
     "metadata": {},
     "output_type": "execute_result"
    }
   ],
   "source": [
    "#Sorts along with column:\n",
    "sort_index_2d = np.argsort(x_2d,axis=1)\n",
    "sort_index_2d"
   ]
  },
  {
   "cell_type": "code",
   "execution_count": 211,
   "metadata": {},
   "outputs": [
    {
     "data": {
      "text/plain": [
       "array([[[3, 4, 8],\n",
       "        [9, 8, 5],\n",
       "        [2, 7, 5]],\n",
       "\n",
       "       [[2, 7, 5],\n",
       "        [9, 8, 5],\n",
       "        [3, 4, 8]],\n",
       "\n",
       "       [[3, 4, 8],\n",
       "        [2, 7, 5],\n",
       "        [9, 8, 5]]])"
      ]
     },
     "execution_count": 211,
     "metadata": {},
     "output_type": "execute_result"
    }
   ],
   "source": [
    "#Sort the array:\n",
    "x_2d[sort_index_2d]"
   ]
  },
  {
   "cell_type": "markdown",
   "metadata": {},
   "source": [
    "#### Use the `order` keyword to specify a field to use when sorting a structured array:"
   ]
  },
  {
   "cell_type": "code",
   "execution_count": 216,
   "metadata": {},
   "outputs": [
    {
     "data": {
      "text/plain": [
       "array([(b'Vinayak', 5.9, 41, 1.2), (b'Tejas', 5.8, 29, 1. ),\n",
       "       (b'Sunil', 5.4, 42, 1.3), (b'Satish', 5.3, 39, 1. )],\n",
       "      dtype=[('name', 'S10'), ('height', '<f8'), ('age', 'i1'), ('Rank', '<f8')])"
      ]
     },
     "execution_count": 216,
     "metadata": {},
     "output_type": "execute_result"
    }
   ],
   "source": [
    "#===========[1]===========#\n",
    "#Specifiy data-types of the values::\n",
    "d_type = [('name', 'S10'), ('height', np.float), ('age', np.int8),('Rank',np.float)]\n",
    "#===========[2]===========#\n",
    "#Values for the array:\n",
    "values = [('Tejas', 5.8, 29,1), ('Satish', 5.3, 39,1),('Vinayak',5.9, 41, 1.2),('Sunil',5.4, 42, 1.3)]\n",
    "#===========[3]===========#\n",
    "#Create an array::\n",
    "a = np.array(values, dtype=d_type)\n",
    "#===========[4]===========#\n",
    "#Sorting based on criteria:\n",
    "np.sort(a, order='height')[::-1]"
   ]
  },
  {
   "cell_type": "code",
   "execution_count": 218,
   "metadata": {},
   "outputs": [
    {
     "data": {
      "text/plain": [
       "array([(b'Sunil', 5.4, 42, 1.3), (b'Vinayak', 5.9, 41, 1.2),\n",
       "       (b'Tejas', 5.8, 29, 1. ), (b'Satish', 5.3, 39, 1. )],\n",
       "      dtype=[('name', 'S10'), ('height', '<f8'), ('age', 'i1'), ('Rank', '<f8')])"
      ]
     },
     "execution_count": 218,
     "metadata": {},
     "output_type": "execute_result"
    }
   ],
   "source": [
    "#Sort by 'Rank', then 'height' if Ranks are equal:\n",
    "np.sort(a,order=['Rank','height'])[::-1]"
   ]
  },
  {
   "cell_type": "code",
   "execution_count": 219,
   "metadata": {},
   "outputs": [
    {
     "data": {
      "text/plain": [
       "((4,), 1)"
      ]
     },
     "execution_count": 219,
     "metadata": {},
     "output_type": "execute_result"
    }
   ],
   "source": [
    "#Check attributes:\n",
    "a.shape,a.ndim"
   ]
  },
  {
   "cell_type": "markdown",
   "metadata": {},
   "source": [
    "### Working with `Dates`::\n",
    "   - Numpy implements dates through the `np.datetime64` object which supports a precision till nanoseconds. \n",
    "   - You can create one using a standard `YYYY-MM-DD` formatted date strings."
   ]
  },
  {
   "cell_type": "code",
   "execution_count": 220,
   "metadata": {},
   "outputs": [
    {
     "data": {
      "text/plain": [
       "numpy.datetime64('2020-08-19')"
      ]
     },
     "execution_count": 220,
     "metadata": {},
     "output_type": "execute_result"
    }
   ],
   "source": [
    "#Get current date and time:\n",
    "np.datetime64('today')"
   ]
  },
  {
   "cell_type": "code",
   "execution_count": 221,
   "metadata": {},
   "outputs": [
    {
     "data": {
      "text/plain": [
       "numpy.datetime64('2020-08-19T10:21:38')"
      ]
     },
     "execution_count": 221,
     "metadata": {},
     "output_type": "execute_result"
    }
   ],
   "source": [
    "np.datetime64('now')"
   ]
  },
  {
   "cell_type": "code",
   "execution_count": 222,
   "metadata": {},
   "outputs": [
    {
     "data": {
      "text/plain": [
       "numpy.datetime64('2020-08-19T10:23:03')"
      ]
     },
     "execution_count": 222,
     "metadata": {},
     "output_type": "execute_result"
    }
   ],
   "source": [
    "# Create a datetime64 object\n",
    "date64 = np.datetime64(np.datetime64('now'))\n",
    "date64"
   ]
  },
  {
   "cell_type": "code",
   "execution_count": 223,
   "metadata": {},
   "outputs": [
    {
     "data": {
      "text/plain": [
       "numpy.datetime64('2020')"
      ]
     },
     "execution_count": 223,
     "metadata": {},
     "output_type": "execute_result"
    }
   ],
   "source": [
    "# Drop the time part from the datetime64 object and get only 'Year' part::\n",
    "dt64 = np.datetime64(date64, 'Y')\n",
    "dt64"
   ]
  },
  {
   "cell_type": "code",
   "execution_count": 224,
   "metadata": {},
   "outputs": [
    {
     "data": {
      "text/plain": [
       "numpy.datetime64('2020-08')"
      ]
     },
     "execution_count": 224,
     "metadata": {},
     "output_type": "execute_result"
    }
   ],
   "source": [
    "# Drop the time part from the datetime64 object and get only 'Month' part::\n",
    "dt64 = np.datetime64(date64, 'M')\n",
    "dt64"
   ]
  },
  {
   "cell_type": "code",
   "execution_count": 230,
   "metadata": {},
   "outputs": [
    {
     "data": {
      "text/plain": [
       "numpy.datetime64('2020-08-19')"
      ]
     },
     "execution_count": 230,
     "metadata": {},
     "output_type": "execute_result"
    }
   ],
   "source": [
    "# Drop the time part from the datetime64 object and get only 'Day' part::\n",
    "dt64 = np.datetime64(date64, 'D')\n",
    "dt64"
   ]
  },
  {
   "cell_type": "markdown",
   "metadata": {},
   "source": [
    "### Create a sequence of dates::"
   ]
  },
  {
   "cell_type": "code",
   "execution_count": 226,
   "metadata": {},
   "outputs": [
    {
     "name": "stdout",
     "output_type": "stream",
     "text": [
      "['2020-05-01' '2020-05-02' '2020-05-03' '2020-05-04' '2020-05-05'\n",
      " '2020-05-06' '2020-05-07' '2020-05-08' '2020-05-09' '2020-05-10']\n"
     ]
    }
   ],
   "source": [
    "dates = np.arange(np.datetime64('2020-05-01'), np.datetime64('2020-05-11'))\n",
    "print(dates)"
   ]
  },
  {
   "cell_type": "code",
   "execution_count": 227,
   "metadata": {},
   "outputs": [
    {
     "name": "stdout",
     "output_type": "stream",
     "text": [
      "['2020-05-01' '2020-05-03' '2020-05-05' '2020-05-07' '2020-05-09']\n"
     ]
    }
   ],
   "source": [
    "dates = np.arange(np.datetime64('2020-05-01'), np.datetime64('2020-05-11'),2)\n",
    "print(dates)"
   ]
  },
  {
   "cell_type": "code",
   "execution_count": 228,
   "metadata": {},
   "outputs": [
    {
     "data": {
      "text/plain": [
       "array(['2020-07-01', '2020-07-02', '2020-07-03', '2020-07-04',\n",
       "       '2020-07-05', '2020-07-06', '2020-07-07', '2020-07-08',\n",
       "       '2020-07-09', '2020-07-10', '2020-07-11', '2020-07-12',\n",
       "       '2020-07-13', '2020-07-14', '2020-07-15', '2020-07-16',\n",
       "       '2020-07-17', '2020-07-18', '2020-07-19', '2020-07-20',\n",
       "       '2020-07-21', '2020-07-22', '2020-07-23', '2020-07-24',\n",
       "       '2020-07-25', '2020-07-26', '2020-07-27', '2020-07-28',\n",
       "       '2020-07-29', '2020-07-30', '2020-07-31'], dtype='datetime64[D]')"
      ]
     },
     "execution_count": 228,
     "metadata": {},
     "output_type": "execute_result"
    }
   ],
   "source": [
    "#All the dates for one month:\n",
    "np.arange('2020-07', '2020-08', dtype='datetime64[D]')"
   ]
  },
  {
   "cell_type": "code",
   "execution_count": 231,
   "metadata": {},
   "outputs": [
    {
     "data": {
      "text/plain": [
       "numpy.datetime64('2020-08-19')"
      ]
     },
     "execution_count": 231,
     "metadata": {},
     "output_type": "execute_result"
    }
   ],
   "source": [
    "dt64"
   ]
  },
  {
   "cell_type": "code",
   "execution_count": 238,
   "metadata": {},
   "outputs": [
    {
     "name": "stdout",
     "output_type": "stream",
     "text": [
      "Add 10 days:  2020-08-29\n"
     ]
    }
   ],
   "source": [
    "# Create the timedeltas (individual units of time)\n",
    "tenminutes = np.timedelta64(10, 'm')  # 10 minutes\n",
    "tenseconds = np.timedelta64(10, 's')  # 10 seconds\n",
    "milliseconds = np.timedelta64(10, 'ms')  # 10 nanoseconds\n",
    "\n",
    "print('Add 10 days: ', dt64 + 10)"
   ]
  },
  {
   "cell_type": "code",
   "execution_count": 233,
   "metadata": {},
   "outputs": [
    {
     "name": "stdout",
     "output_type": "stream",
     "text": [
      "Add 10 minutes:  2020-08-19T00:10\n"
     ]
    }
   ],
   "source": [
    "print('Add 10 minutes: ', dt64 + tenminutes)"
   ]
  },
  {
   "cell_type": "code",
   "execution_count": 234,
   "metadata": {},
   "outputs": [
    {
     "name": "stdout",
     "output_type": "stream",
     "text": [
      "Add 10 seconds:  2020-08-19T00:00:10\n"
     ]
    }
   ],
   "source": [
    "print('Add 10 seconds: ', dt64 + tenseconds)"
   ]
  },
  {
   "cell_type": "code",
   "execution_count": 239,
   "metadata": {},
   "outputs": [
    {
     "name": "stdout",
     "output_type": "stream",
     "text": [
      "Add 10 nanoseconds:  2020-08-19T00:00:00.010\n"
     ]
    }
   ],
   "source": [
    "print('Add 10 nanoseconds: ', dt64 + milliseconds)"
   ]
  },
  {
   "cell_type": "markdown",
   "metadata": {},
   "source": [
    "### `np.is_busday():`"
   ]
  },
  {
   "cell_type": "code",
   "execution_count": 240,
   "metadata": {},
   "outputs": [
    {
     "data": {
      "text/plain": [
       "True"
      ]
     },
     "execution_count": 240,
     "metadata": {},
     "output_type": "execute_result"
    }
   ],
   "source": [
    "np.is_busday(np.datetime64(np.datetime64('today'))) #Today is Wednesday(working-day)"
   ]
  },
  {
   "cell_type": "code",
   "execution_count": 241,
   "metadata": {},
   "outputs": [
    {
     "data": {
      "text/plain": [
       "False"
      ]
     },
     "execution_count": 241,
     "metadata": {},
     "output_type": "execute_result"
    }
   ],
   "source": [
    "#let's check for 'Saturday'::\n",
    "np.is_busday(np.datetime64('2020-08-22'))"
   ]
  },
  {
   "cell_type": "code",
   "execution_count": 242,
   "metadata": {},
   "outputs": [
    {
     "data": {
      "text/plain": [
       "array([ True,  True,  True,  True,  True, False, False])"
      ]
     },
     "execution_count": 242,
     "metadata": {},
     "output_type": "execute_result"
    }
   ],
   "source": [
    "week = np.arange(np.datetime64('2020-08-24'), np.datetime64('2020-08-31'))\n",
    "np.is_busday(week)"
   ]
  },
  {
   "cell_type": "markdown",
   "metadata": {},
   "source": [
    "### `np.busday_count():`"
   ]
  },
  {
   "cell_type": "code",
   "execution_count": 143,
   "metadata": {},
   "outputs": [
    {
     "data": {
      "text/plain": [
       "5"
      ]
     },
     "execution_count": 143,
     "metadata": {},
     "output_type": "execute_result"
    }
   ],
   "source": [
    "np.busday_count(np.datetime64('2020-08-24'), np.datetime64('2020-08-31'))"
   ]
  },
  {
   "cell_type": "code",
   "execution_count": 147,
   "metadata": {},
   "outputs": [
    {
     "data": {
      "text/plain": [
       "array(['2020-08-24', '2020-08-25', '2020-08-26', '2020-08-27',\n",
       "       '2020-08-28', '2020-08-29', '2020-08-30'], dtype='datetime64[D]')"
      ]
     },
     "execution_count": 147,
     "metadata": {},
     "output_type": "execute_result"
    }
   ],
   "source": [
    "a = np.arange(np.datetime64('2020-08-24'), np.datetime64('2020-08-31'))\n",
    "a"
   ]
  },
  {
   "cell_type": "code",
   "execution_count": 148,
   "metadata": {},
   "outputs": [
    {
     "data": {
      "text/plain": [
       "5"
      ]
     },
     "execution_count": 148,
     "metadata": {},
     "output_type": "execute_result"
    }
   ],
   "source": [
    "np.count_nonzero(np.is_busday(a))"
   ]
  },
  {
   "cell_type": "markdown",
   "metadata": {},
   "source": [
    "### Application of `functions` on `Column` or `Row`:"
   ]
  },
  {
   "cell_type": "markdown",
   "metadata": {},
   "source": [
    "```\n",
    ">>>x = np.datetime64('2010-06-01T00:00:00.000000000')\n",
    ">>>x = pd.to_datetime(x)\n",
    "\n",
    ">>>str(x.date())\n",
    ">>>'2010-06-01'\n",
    "```\n",
    "or\n",
    "```\n",
    ">>>x = []\n",
    ">>>for i in ['2010-06-01T00:00:00.000000000', '2010-12-02T00:00:00.000000000']:\n",
    "\n",
    ">>>    x.append(np.datetime64(i)) \n",
    "\n",
    ">>>date_df = pd.to_datetime(x)\n",
    "\n",
    ">>>[str(i.date()) for i in x]\n",
    "\n",
    ">>>Output::['2010-06-01', '2010-12-02']\n",
    "```"
   ]
  },
  {
   "cell_type": "markdown",
   "metadata": {},
   "source": [
    "#### Define a scalar function::"
   ]
  },
  {
   "cell_type": "code",
   "execution_count": 1,
   "metadata": {},
   "outputs": [],
   "source": [
    "#Function definition:\n",
    "def test(x):\n",
    "    #If-Else:\n",
    "    if x % 2 == 1:\n",
    "        return x**2\n",
    "    else:\n",
    "        return x/2"
   ]
  },
  {
   "cell_type": "code",
   "execution_count": 2,
   "metadata": {},
   "outputs": [
    {
     "name": "stdout",
     "output_type": "stream",
     "text": [
      "x = 10 returns  5.0\n",
      "x = 11 returns  121\n"
     ]
    }
   ],
   "source": [
    "# On a scalar\n",
    "print('x = 10 returns ', test(10))\n",
    "print('x = 11 returns ', test(11))"
   ]
  },
  {
   "cell_type": "markdown",
   "metadata": {},
   "source": [
    "#### Apply along axis::\n",
    "   - Row-wise or \n",
    "   - Column-wise"
   ]
  },
  {
   "cell_type": "code",
   "execution_count": 4,
   "metadata": {},
   "outputs": [],
   "source": [
    "import numpy as np"
   ]
  },
  {
   "cell_type": "code",
   "execution_count": 6,
   "metadata": {},
   "outputs": [
    {
     "data": {
      "text/plain": [
       "array([[9, 9, 4, 8, 8, 1, 5, 3, 6, 3],\n",
       "       [3, 3, 2, 1, 9, 5, 1, 7, 3, 5],\n",
       "       [2, 6, 4, 5, 5, 4, 8, 2, 2, 8],\n",
       "       [8, 1, 3, 4, 3, 6, 9, 2, 1, 8]])"
      ]
     },
     "execution_count": 6,
     "metadata": {},
     "output_type": "execute_result"
    }
   ],
   "source": [
    "# Create a 4x10 random array\n",
    "np.random.seed(100)\n",
    "arr_x = np.random.randint(1,10,size=(4,10))\n",
    "arr_x"
   ]
  },
  {
   "cell_type": "markdown",
   "metadata": {
    "collapsed": true
   },
   "source": [
    "### **Task::** Find the difference of the maximum and the minimum value in each row?\n",
    " - The normal approach would be to write a for-loop that iterates along each row and then compute the max-min in each iteration.\n",
    " >___That sounds alright but it can get cumbersome if you want to do the same column wise___.\n",
    " - As a solution on this using the `numpy.apply_along_axis` function.\n",
    " ***\n",
    " - `numpy.apply_along_axis` takes:\n",
    "     - **Function** that works on a 1D vector.\n",
    "     - **Axis** along which to apply func1d. \n",
    "         - For a 2D array:\n",
    "             - **0** is `row wise` and \n",
    "             - **1** is `column wise`.\n",
    "     - **Array** on which function 1D should be applied.\n",
    "***\n",
    "***"
   ]
  },
  {
   "cell_type": "markdown",
   "metadata": {},
   "source": [
    ">_We can sum each row of an array, in which case we operate_ **_along columns, or axis 1._**\n",
    "\n",
    "And\n",
    "\n",
    ">_We can sum each column of an array, in which case we operate_ **_across rows, or axis 0._**"
   ]
  },
  {
   "cell_type": "markdown",
   "metadata": {
    "collapsed": true
   },
   "source": [
    "- Let's perform experiment:"
   ]
  },
  {
   "cell_type": "code",
   "execution_count": 9,
   "metadata": {},
   "outputs": [],
   "source": [
    "# Define func1d\n",
    "def max_minus_min(x):\n",
    "    return np.max(x) - np.min(x)"
   ]
  },
  {
   "cell_type": "code",
   "execution_count": 10,
   "metadata": {},
   "outputs": [
    {
     "data": {
      "text/plain": [
       "array([[9, 9, 4, 8, 8, 1, 5, 3, 6, 3],\n",
       "       [3, 3, 2, 1, 9, 5, 1, 7, 3, 5],\n",
       "       [2, 6, 4, 5, 5, 4, 8, 2, 2, 8],\n",
       "       [8, 1, 3, 4, 3, 6, 9, 2, 1, 8]])"
      ]
     },
     "execution_count": 10,
     "metadata": {},
     "output_type": "execute_result"
    }
   ],
   "source": [
    "arr_x"
   ]
  },
  {
   "cell_type": "code",
   "execution_count": 11,
   "metadata": {},
   "outputs": [
    {
     "name": "stdout",
     "output_type": "stream",
     "text": [
      "Row wise:  [7 8 2 7 6 5 8 5 5 5]\n"
     ]
    }
   ],
   "source": [
    "# Finding difference between Max and Min value in each column(in this case we operate across rows)::\n",
    "# And that's why we mention \"axis = 0\"(Vertically downwards)\n",
    "print('Column operation: ', np.apply_along_axis(max_minus_min, 0, arr=arr_x))"
   ]
  },
  {
   "cell_type": "code",
   "execution_count": 12,
   "metadata": {},
   "outputs": [
    {
     "name": "stdout",
     "output_type": "stream",
     "text": [
      "Row wise:  [8 8 6 8]\n"
     ]
    }
   ],
   "source": [
    "# Finding difference between Max and Min value in each row(in this case we operate along columns)::\n",
    "# And that's why we mention \"axis = 1\"(Horizontally moving)\n",
    "print('Row wise: ', np.apply_along_axis(max_minus_min, 1, arr=arr_x))"
   ]
  },
  {
   "cell_type": "markdown",
   "metadata": {},
   "source": [
    "### This is all about numpy..........!\n",
    "### .\n",
    "\n",
    "### .\n",
    "\n",
    "\n",
    "## What is missing in numpy?\n",
    "- So far we have covered a good number of techniques to do data manipulations with numpy. But there are a considerable number of things you can’t do with numpy directly which are::\n",
    "    - No direct function to merge two 2D arrays based on a common column.\n",
    "    - Create pivot tables directly\n",
    "    - No direct way of doing 2D cross tabulations.\n",
    "    - No direct method to compute statistics (like mean) grouped by unique values in an array.\n",
    "    - And more.."
   ]
  },
  {
   "cell_type": "markdown",
   "metadata": {},
   "source": [
    "## To Answer all of this -- `pandas` data-structure"
   ]
  }
 ],
 "metadata": {
  "kernelspec": {
   "display_name": "Python 3",
   "language": "python",
   "name": "python3"
  },
  "language_info": {
   "codemirror_mode": {
    "name": "ipython",
    "version": 3
   },
   "file_extension": ".py",
   "mimetype": "text/x-python",
   "name": "python",
   "nbconvert_exporter": "python",
   "pygments_lexer": "ipython3",
   "version": "3.7.6"
  }
 },
 "nbformat": 4,
 "nbformat_minor": 2
}
